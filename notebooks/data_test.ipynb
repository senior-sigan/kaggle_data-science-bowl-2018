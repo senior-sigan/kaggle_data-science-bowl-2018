{
 "cells": [
  {
   "cell_type": "code",
   "execution_count": 1,
   "metadata": {},
   "outputs": [],
   "source": [
    "%matplotlib inline\n",
    "from matplotlib import pyplot as plt\n",
    "import numpy as np\n",
    "import pandas as pd\n",
    "from sklearn.model_selection import train_test_split"
   ]
  },
  {
   "cell_type": "code",
   "execution_count": 2,
   "metadata": {},
   "outputs": [
    {
     "name": "stdout",
     "output_type": "stream",
     "text": [
      "/Users/ilya/Documents/machine_learning/kaggle_data-science-bowl-2018/code/src\n"
     ]
    }
   ],
   "source": [
    "import os\n",
    "import sys\n",
    "module_path = os.path.abspath('../src')\n",
    "print(module_path)\n",
    "if module_path not in sys.path:\n",
    "    sys.path.append(module_path)"
   ]
  },
  {
   "cell_type": "code",
   "execution_count": 3,
   "metadata": {},
   "outputs": [
    {
     "name": "stderr",
     "output_type": "stream",
     "text": [
      "/usr/local/lib/python3.6/site-packages/h5py/__init__.py:36: FutureWarning: Conversion of the second argument of issubdtype from `float` to `np.floating` is deprecated. In future, it will be treated as `np.float64 == np.dtype(float).type`.\n",
      "  from ._conv import register_converters as _register_converters\n",
      "Using TensorFlow backend.\n"
     ]
    }
   ],
   "source": [
    "from config import local as params\n",
    "import data"
   ]
  },
  {
   "cell_type": "code",
   "execution_count": 6,
   "metadata": {},
   "outputs": [
    {
     "name": "stdout",
     "output_type": "stream",
     "text": [
      "Find 670 train_ids\n"
     ]
    }
   ],
   "source": [
    "X_train, Y_train = data.make_train_df(params)"
   ]
  },
  {
   "cell_type": "code",
   "execution_count": 5,
   "metadata": {},
   "outputs": [
    {
     "name": "stdout",
     "output_type": "stream",
     "text": [
      "Find 65 test_ids\n"
     ]
    }
   ],
   "source": [
    "X_test = data.make_test_df(params)"
   ]
  },
  {
   "cell_type": "code",
   "execution_count": null,
   "metadata": {},
   "outputs": [],
   "source": []
  },
  {
   "cell_type": "code",
   "execution_count": 9,
   "metadata": {},
   "outputs": [],
   "source": [
    "xtr, xval, ytr, yval = train_test_split(X_train, Y_train)"
   ]
  },
  {
   "cell_type": "code",
   "execution_count": 26,
   "metadata": {},
   "outputs": [
    {
     "data": {
      "text/plain": [
       "[array([[[13, 13, 13],\n",
       "         [13, 13, 13],\n",
       "         [13, 13, 13],\n",
       "         ...,\n",
       "         [12, 12, 12],\n",
       "         [13, 13, 13],\n",
       "         [13, 13, 13]],\n",
       " \n",
       "        [[13, 13, 13],\n",
       "         [12, 12, 12],\n",
       "         [11, 11, 11],\n",
       "         ...,\n",
       "         [12, 12, 12],\n",
       "         [13, 13, 13],\n",
       "         [12, 12, 12]],\n",
       " \n",
       "        [[13, 13, 13],\n",
       "         [11, 11, 11],\n",
       "         [13, 13, 13],\n",
       "         ...,\n",
       "         [13, 13, 13],\n",
       "         [13, 13, 13],\n",
       "         [13, 13, 13]],\n",
       " \n",
       "        ...,\n",
       " \n",
       "        [[14, 14, 14],\n",
       "         [14, 14, 14],\n",
       "         [13, 13, 13],\n",
       "         ...,\n",
       "         [13, 13, 13],\n",
       "         [12, 12, 12],\n",
       "         [14, 14, 14]],\n",
       " \n",
       "        [[13, 13, 13],\n",
       "         [13, 13, 13],\n",
       "         [13, 13, 13],\n",
       "         ...,\n",
       "         [13, 13, 13],\n",
       "         [13, 13, 13],\n",
       "         [13, 13, 13]],\n",
       " \n",
       "        [[13, 13, 13],\n",
       "         [13, 13, 13],\n",
       "         [14, 14, 14],\n",
       "         ...,\n",
       "         [13, 13, 13],\n",
       "         [14, 14, 14],\n",
       "         [14, 14, 14]]], dtype=uint8), array([[[30, 30, 30],\n",
       "         [20, 20, 20],\n",
       "         [14, 14, 14],\n",
       "         ...,\n",
       "         [26, 26, 26],\n",
       "         [24, 24, 24],\n",
       "         [22, 22, 22]],\n",
       " \n",
       "        [[33, 33, 33],\n",
       "         [24, 24, 24],\n",
       "         [15, 15, 15],\n",
       "         ...,\n",
       "         [29, 29, 29],\n",
       "         [27, 27, 27],\n",
       "         [24, 24, 24]],\n",
       " \n",
       "        [[32, 32, 32],\n",
       "         [23, 23, 23],\n",
       "         [15, 15, 15],\n",
       "         ...,\n",
       "         [30, 30, 30],\n",
       "         [29, 29, 29],\n",
       "         [28, 28, 28]],\n",
       " \n",
       "        ...,\n",
       " \n",
       "        [[ 5,  5,  5],\n",
       "         [ 5,  5,  5],\n",
       "         [ 5,  5,  5],\n",
       "         ...,\n",
       "         [ 7,  7,  7],\n",
       "         [ 8,  8,  8],\n",
       "         [ 7,  7,  7]],\n",
       " \n",
       "        [[ 5,  5,  5],\n",
       "         [ 5,  5,  5],\n",
       "         [ 5,  5,  5],\n",
       "         ...,\n",
       "         [ 7,  7,  7],\n",
       "         [ 8,  8,  8],\n",
       "         [ 9,  9,  9]],\n",
       " \n",
       "        [[ 6,  6,  6],\n",
       "         [ 5,  5,  5],\n",
       "         [ 5,  5,  5],\n",
       "         ...,\n",
       "         [ 8,  8,  8],\n",
       "         [ 9,  9,  9],\n",
       "         [ 9,  9,  9]]], dtype=uint8), array([[[104,  41, 194],\n",
       "         [109,  48, 194],\n",
       "         [117,  58, 197],\n",
       "         ...,\n",
       "         [180, 160, 209],\n",
       "         [180, 157, 209],\n",
       "         [178, 155, 208]],\n",
       " \n",
       "        [[106,  40, 195],\n",
       "         [111,  51, 196],\n",
       "         [119,  63, 197],\n",
       "         ...,\n",
       "         [180, 160, 209],\n",
       "         [180, 157, 209],\n",
       "         [180, 158, 208]],\n",
       " \n",
       "        [[102,  38, 193],\n",
       "         [110,  50, 196],\n",
       "         [118,  62, 197],\n",
       "         ...,\n",
       "         [180, 163, 209],\n",
       "         [181, 162, 209],\n",
       "         [182, 162, 209]],\n",
       " \n",
       "        ...,\n",
       " \n",
       "        [[177, 159, 209],\n",
       "         [175, 159, 208],\n",
       "         [175, 159, 208],\n",
       "         ...,\n",
       "         [181, 160, 208],\n",
       "         [180, 160, 208],\n",
       "         [180, 161, 209]],\n",
       " \n",
       "        [[174, 158, 208],\n",
       "         [174, 158, 208],\n",
       "         [175, 159, 208],\n",
       "         ...,\n",
       "         [184, 161, 209],\n",
       "         [184, 161, 209],\n",
       "         [182, 161, 210]],\n",
       " \n",
       "        [[171, 155, 207],\n",
       "         [173, 156, 207],\n",
       "         [175, 158, 207],\n",
       "         ...,\n",
       "         [185, 162, 210],\n",
       "         [185, 162, 210],\n",
       "         [182, 162, 210]]], dtype=uint8), array([[[58, 58, 58],\n",
       "         [59, 59, 59],\n",
       "         [60, 60, 60],\n",
       "         ...,\n",
       "         [38, 38, 38],\n",
       "         [53, 53, 53],\n",
       "         [67, 67, 67]],\n",
       " \n",
       "        [[57, 57, 57],\n",
       "         [61, 61, 61],\n",
       "         [62, 62, 62],\n",
       "         ...,\n",
       "         [38, 38, 38],\n",
       "         [56, 56, 56],\n",
       "         [68, 68, 68]],\n",
       " \n",
       "        [[58, 58, 58],\n",
       "         [60, 60, 60],\n",
       "         [64, 64, 64],\n",
       "         ...,\n",
       "         [37, 37, 37],\n",
       "         [50, 50, 50],\n",
       "         [65, 65, 65]],\n",
       " \n",
       "        ...,\n",
       " \n",
       "        [[15, 15, 15],\n",
       "         [15, 15, 15],\n",
       "         [13, 13, 13],\n",
       "         ...,\n",
       "         [11, 11, 11],\n",
       "         [12, 12, 12],\n",
       "         [10, 10, 10]],\n",
       " \n",
       "        [[15, 15, 15],\n",
       "         [16, 16, 16],\n",
       "         [14, 14, 14],\n",
       "         ...,\n",
       "         [10, 10, 10],\n",
       "         [12, 12, 12],\n",
       "         [12, 12, 12]],\n",
       " \n",
       "        [[16, 16, 16],\n",
       "         [15, 15, 15],\n",
       "         [14, 14, 14],\n",
       "         ...,\n",
       "         [11, 11, 11],\n",
       "         [12, 12, 12],\n",
       "         [12, 12, 12]]], dtype=uint8), array([[[202, 203, 212],\n",
       "         [199, 202, 205],\n",
       "         [196, 201, 198],\n",
       "         ...,\n",
       "         [201, 206, 207],\n",
       "         [199, 208, 213],\n",
       "         [199, 208, 213]],\n",
       " \n",
       "        [[204, 200, 211],\n",
       "         [200, 200, 207],\n",
       "         [196, 200, 203],\n",
       "         ...,\n",
       "         [204, 205, 209],\n",
       "         [201, 206, 212],\n",
       "         [199, 206, 210]],\n",
       " \n",
       "        [[203, 197, 210],\n",
       "         [199, 198, 209],\n",
       "         [195, 199, 208],\n",
       "         ...,\n",
       "         [200, 204, 213],\n",
       "         [201, 203, 212],\n",
       "         [203, 202, 207]],\n",
       " \n",
       "        ...,\n",
       " \n",
       "        [[205, 201, 219],\n",
       "         [203, 201, 214],\n",
       "         [201, 201, 209],\n",
       "         ...,\n",
       "         [179, 146, 189],\n",
       "         [171, 131, 188],\n",
       "         [162, 116, 188]],\n",
       " \n",
       "        [[210, 198, 227],\n",
       "         [206, 199, 219],\n",
       "         [202, 200, 211],\n",
       "         ...,\n",
       "         [181, 164, 195],\n",
       "         [174, 149, 193],\n",
       "         [166, 135, 190]],\n",
       " \n",
       "        [[213, 203, 214],\n",
       "         [208, 203, 208],\n",
       "         [203, 203, 202],\n",
       "         ...,\n",
       "         [186, 174, 200],\n",
       "         [179, 162, 199],\n",
       "         [171, 149, 197]]], dtype=uint8)]"
      ]
     },
     "execution_count": 26,
     "metadata": {},
     "output_type": "execute_result"
    }
   ],
   "source": [
    "from random import sample\n",
    "sample([data.read_image(x) for x in X_train[:5]], 5)"
   ]
  },
  {
   "cell_type": "code",
   "execution_count": 8,
   "metadata": {},
   "outputs": [],
   "source": [
    "shapes = [data.read_image(x).shape for x in X_test]"
   ]
  },
  {
   "cell_type": "code",
   "execution_count": 9,
   "metadata": {},
   "outputs": [
    {
     "data": {
      "text/html": [
       "<div>\n",
       "<style scoped>\n",
       "    .dataframe tbody tr th:only-of-type {\n",
       "        vertical-align: middle;\n",
       "    }\n",
       "\n",
       "    .dataframe tbody tr th {\n",
       "        vertical-align: top;\n",
       "    }\n",
       "\n",
       "    .dataframe thead th {\n",
       "        text-align: right;\n",
       "    }\n",
       "</style>\n",
       "<table border=\"1\" class=\"dataframe\">\n",
       "  <thead>\n",
       "    <tr style=\"text-align: right;\">\n",
       "      <th></th>\n",
       "      <th>x</th>\n",
       "      <th>y</th>\n",
       "      <th>ch</th>\n",
       "    </tr>\n",
       "  </thead>\n",
       "  <tbody>\n",
       "    <tr>\n",
       "      <th>0</th>\n",
       "      <td>256</td>\n",
       "      <td>256</td>\n",
       "      <td>3</td>\n",
       "    </tr>\n",
       "    <tr>\n",
       "      <th>1</th>\n",
       "      <td>512</td>\n",
       "      <td>680</td>\n",
       "      <td>3</td>\n",
       "    </tr>\n",
       "    <tr>\n",
       "      <th>2</th>\n",
       "      <td>512</td>\n",
       "      <td>640</td>\n",
       "      <td>3</td>\n",
       "    </tr>\n",
       "    <tr>\n",
       "      <th>3</th>\n",
       "      <td>520</td>\n",
       "      <td>696</td>\n",
       "      <td>3</td>\n",
       "    </tr>\n",
       "    <tr>\n",
       "      <th>4</th>\n",
       "      <td>512</td>\n",
       "      <td>680</td>\n",
       "      <td>3</td>\n",
       "    </tr>\n",
       "  </tbody>\n",
       "</table>\n",
       "</div>"
      ],
      "text/plain": [
       "     x    y  ch\n",
       "0  256  256   3\n",
       "1  512  680   3\n",
       "2  512  640   3\n",
       "3  520  696   3\n",
       "4  512  680   3"
      ]
     },
     "execution_count": 9,
     "metadata": {},
     "output_type": "execute_result"
    }
   ],
   "source": [
    "resolutions = pd.DataFrame(shapes, columns=['x', 'y', 'ch'])\n",
    "resolutions.head()"
   ]
  },
  {
   "cell_type": "code",
   "execution_count": 8,
   "metadata": {},
   "outputs": [
    {
     "data": {
      "text/html": [
       "<div>\n",
       "<style scoped>\n",
       "    .dataframe tbody tr th:only-of-type {\n",
       "        vertical-align: middle;\n",
       "    }\n",
       "\n",
       "    .dataframe tbody tr th {\n",
       "        vertical-align: top;\n",
       "    }\n",
       "\n",
       "    .dataframe thead th {\n",
       "        text-align: right;\n",
       "    }\n",
       "</style>\n",
       "<table border=\"1\" class=\"dataframe\">\n",
       "  <thead>\n",
       "    <tr style=\"text-align: right;\">\n",
       "      <th></th>\n",
       "      <th></th>\n",
       "      <th>ch</th>\n",
       "    </tr>\n",
       "    <tr>\n",
       "      <th>x</th>\n",
       "      <th>y</th>\n",
       "      <th></th>\n",
       "    </tr>\n",
       "  </thead>\n",
       "  <tbody>\n",
       "    <tr>\n",
       "      <th rowspan=\"2\" valign=\"top\">256</th>\n",
       "      <th>256</th>\n",
       "      <td>334</td>\n",
       "    </tr>\n",
       "    <tr>\n",
       "      <th>320</th>\n",
       "      <td>112</td>\n",
       "    </tr>\n",
       "    <tr>\n",
       "      <th>520</th>\n",
       "      <th>696</th>\n",
       "      <td>92</td>\n",
       "    </tr>\n",
       "    <tr>\n",
       "      <th>360</th>\n",
       "      <th>360</th>\n",
       "      <td>91</td>\n",
       "    </tr>\n",
       "    <tr>\n",
       "      <th>1024</th>\n",
       "      <th>1024</th>\n",
       "      <td>16</td>\n",
       "    </tr>\n",
       "    <tr>\n",
       "      <th>512</th>\n",
       "      <th>640</th>\n",
       "      <td>13</td>\n",
       "    </tr>\n",
       "    <tr>\n",
       "      <th>603</th>\n",
       "      <th>1272</th>\n",
       "      <td>6</td>\n",
       "    </tr>\n",
       "    <tr>\n",
       "      <th>260</th>\n",
       "      <th>347</th>\n",
       "      <td>5</td>\n",
       "    </tr>\n",
       "    <tr>\n",
       "      <th>1040</th>\n",
       "      <th>1388</th>\n",
       "      <td>1</td>\n",
       "    </tr>\n",
       "  </tbody>\n",
       "</table>\n",
       "</div>"
      ],
      "text/plain": [
       "            ch\n",
       "x    y        \n",
       "256  256   334\n",
       "     320   112\n",
       "520  696    92\n",
       "360  360    91\n",
       "1024 1024   16\n",
       "512  640    13\n",
       "603  1272    6\n",
       "260  347     5\n",
       "1040 1388    1"
      ]
     },
     "execution_count": 8,
     "metadata": {},
     "output_type": "execute_result"
    }
   ],
   "source": [
    "resolutions.groupby(by=['x', 'y']).count().sort_values('ch', ascending=False)"
   ]
  },
  {
   "cell_type": "code",
   "execution_count": 28,
   "metadata": {},
   "outputs": [
    {
     "data": {
      "text/plain": [
       "<matplotlib.image.AxesImage at 0x123fa6358>"
      ]
     },
     "execution_count": 28,
     "metadata": {},
     "output_type": "execute_result"
    },
    {
     "data": {
      "image/png": "[encoded data removed]",
      "text/plain": [
       "<matplotlib.figure.Figure at 0x123f8b748>"
      ]
     },
     "metadata": {},
     "output_type": "display_data"
    }
   ],
   "source": [
    "plt.imshow(data.read_image(X_train[i])[:,:,:3])"
   ]
  },
  {
   "cell_type": "code",
   "execution_count": 24,
   "metadata": {},
   "outputs": [
    {
     "data": {
      "text/plain": [
       "<matplotlib.image.AxesImage at 0x123e602b0>"
      ]
     },
     "execution_count": 24,
     "metadata": {},
     "output_type": "execute_result"
    },
    {
     "data": {
      "image/png": "[encoded data removed]",
      "text/plain": [
       "<matplotlib.figure.Figure at 0x123f8b6a0>"
      ]
     },
     "metadata": {},
     "output_type": "display_data"
    }
   ],
   "source": [
    "i = resolutions[resolutions['x'] == 603].index[0]\n",
    "plt.imshow(data.read_image(X_train[i]))"
   ]
  }
 ],
 "metadata": {
  "kernelspec": {
   "display_name": "Python 3",
   "language": "python",
   "name": "python3"
  },
  "language_info": {
   "codemirror_mode": {
    "name": "ipython",
    "version": 3
   },
   "file_extension": ".py",
   "mimetype": "text/x-python",
   "name": "python",
   "nbconvert_exporter": "python",
   "pygments_lexer": "ipython3",
   "version": "3.6.3"
  }
 },
 "nbformat": 4,
 "nbformat_minor": 2
}
